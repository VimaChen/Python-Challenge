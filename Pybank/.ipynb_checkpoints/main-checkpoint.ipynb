{
 "cells": [
  {
   "cell_type": "code",
   "execution_count": 2,
   "id": "584d39be-d60b-4f76-8070-8986c7c6cb77",
   "metadata": {},
   "outputs": [],
   "source": [
    "from pandas import pandas\n",
    "import os\n",
    "import csv\n",
    "import sys"
   ]
  },
  {
   "cell_type": "code",
   "execution_count": 3,
   "id": "797e6719-dd86-4f01-8a4c-762bb332b8a2",
   "metadata": {},
   "outputs": [],
   "source": [
    "budgetfile = os.path.join('budget_data.csv')"
   ]
  },
  {
   "cell_type": "code",
   "execution_count": 4,
   "id": "0539e0af-a84a-4681-a39b-f13362a74af3",
   "metadata": {},
   "outputs": [],
   "source": [
    "df = pandas.read_csv(budgetfile)"
   ]
  },
  {
   "cell_type": "code",
   "execution_count": 5,
   "id": "8befc813-12ab-42fb-93d6-9a9d3cd61444",
   "metadata": {},
   "outputs": [
    {
     "name": "stdout",
     "output_type": "stream",
     "text": [
      "        Date  Profit/Losses\n",
      "0   Jan-2010         867884\n",
      "1   Feb-2010         984655\n",
      "2   Mar-2010         322013\n",
      "3   Apr-2010         -69417\n",
      "4   May-2010         310503\n",
      "..       ...            ...\n",
      "81  Oct-2016         102685\n",
      "82  Nov-2016         795914\n",
      "83  Dec-2016          60988\n",
      "84  Jan-2017         138230\n",
      "85  Feb-2017         671099\n",
      "\n",
      "[86 rows x 2 columns]\n"
     ]
    }
   ],
   "source": [
    "print(df)"
   ]
  },
  {
   "cell_type": "code",
   "execution_count": 6,
   "id": "ab7fc7cb-02b6-498e-aa5d-2e7979a01014",
   "metadata": {},
   "outputs": [
    {
     "name": "stdout",
     "output_type": "stream",
     "text": [
      "86\n"
     ]
    }
   ],
   "source": [
    "#The total number of months included in the dataset.\n",
    "months = df[\"Date\"].count()\n",
    "print(months)"
   ]
  },
  {
   "cell_type": "code",
   "execution_count": 8,
   "id": "a1fb7afd-1d9d-466e-aa0e-e0875632910f",
   "metadata": {},
   "outputs": [
    {
     "name": "stdout",
     "output_type": "stream",
     "text": [
      "38382578\n"
     ]
    }
   ],
   "source": [
    "#The net total amount of Profit/Losses over the entire period.\n",
    "total_rev = df[\"Profit/Losses\"].sum()\n",
    "print(total_rev)"
   ]
  },
  {
   "cell_type": "code",
   "execution_count": 10,
   "id": "4f71fea4-9e19-4d1e-97b8-50fdc5bfe41f",
   "metadata": {},
   "outputs": [
    {
     "name": "stdout",
     "output_type": "stream",
     "text": [
      "446309.0465116279\n"
     ]
    }
   ],
   "source": [
    "#The average of the changes in Profit/Losses over the entire period.\n",
    "avg_revenue = df[\"Profit/Losses\"].mean()\n",
    "print(avg_revenue)"
   ]
  },
  {
   "cell_type": "code",
   "execution_count": 11,
   "id": "4c744ba6-2336-4f24-9ab5-2f6bed288cb1",
   "metadata": {},
   "outputs": [
    {
     "name": "stdout",
     "output_type": "stream",
     "text": [
      "1170593\n"
     ]
    }
   ],
   "source": [
    "#The greatest increase in profits (date and amount) over the entire period.\n",
    "max_rev = df[\"Profit/Losses\"].max()\n",
    "print(max_rev)"
   ]
  },
  {
   "cell_type": "code",
   "execution_count": 12,
   "id": "a6b1fec8-9f52-4ef6-bae7-e37f3f6c455b",
   "metadata": {},
   "outputs": [
    {
     "name": "stdout",
     "output_type": "stream",
     "text": [
      "Feb-2012\n"
     ]
    }
   ],
   "source": [
    "#Locate the date of the greatest increase\n",
    "date = df.loc[df[\"Profit/Losses\"] == max_rev, \"Date\"]\n",
    "max_date = date.iloc[0]\n",
    "print(max_date)"
   ]
  },
  {
   "cell_type": "code",
   "execution_count": 13,
   "id": "9c592759-96c1-4b73-824f-19db3b42f73e",
   "metadata": {},
   "outputs": [
    {
     "name": "stdout",
     "output_type": "stream",
     "text": [
      "-1196225\n"
     ]
    }
   ],
   "source": [
    "#The greatest decrease in losses (date and amount) over the entire period.\n",
    "min_rev = df[\"Profit/Losses\"].min()\n",
    "print(min_rev)"
   ]
  },
  {
   "cell_type": "code",
   "execution_count": 15,
   "id": "573011bb-2d33-450d-862f-89c86fd45a68",
   "metadata": {},
   "outputs": [
    {
     "name": "stdout",
     "output_type": "stream",
     "text": [
      "Sep-2013\n"
     ]
    }
   ],
   "source": [
    "#Locate the date of the greatest decrease\n",
    "date = df.loc[df[\"Profit/Losses\"] == min_rev, \"Date\"]\n",
    "min_date = date.iloc[0]\n",
    "print(min_date)\n"
   ]
  },
  {
   "cell_type": "code",
   "execution_count": 19,
   "id": "247ed530-9723-49e0-8a9b-ebde334638d4",
   "metadata": {},
   "outputs": [
    {
     "name": "stdout",
     "output_type": "stream",
     "text": [
      " Financial Analysis for PyBank\n",
      "-------------------------------------\n",
      "\n",
      " Total Months: 86\n",
      " Total Revenue: 38382578\n",
      " Average Revenue Change: 446309.0465116279\n",
      " Greatest Increase in Revenue: Feb-2012 1170593\n",
      " Greatest Decrease in Revenue: Sep-2013 -1196225\n"
     ]
    }
   ],
   "source": [
    "#Print Financial Statement in terminal\n",
    "print(\" Financial Analysis for PyBank\\n-------------------------------------\\n\")\n",
    "print(f\" Total Months: {months}\\n Total Revenue: {total_rev}\\n Average Revenue Change: {avg_revenue}\\n Greatest Increase in Revenue: {max_date} {max_rev}\\n Greatest Decrease in Revenue: {min_date} {min_rev}\")"
   ]
  },
  {
   "cell_type": "code",
   "execution_count": 20,
   "id": "7d50e81a-5f23-4fc9-b293-8026bac66be0",
   "metadata": {},
   "outputs": [],
   "source": [
    "#Export statements in seperate text file within the same directory\n",
    "analysis = sys.stdout\n",
    "sys.stdout = open('PyBank-financial-analysis.txt', 'w')\n",
    "print(\" Financial Analysis for PyBank\\n-------------------------------------\\n\")\n",
    "print(f\" Total Months: {months}\\n Total Revenue: {total_rev}\\n Average Revenue Change: {avg_revenue}\\n Greatest Increase in Revenue: {max_date} {max_rev}\\n Greatest Decrease in Revenue: {min_date} {min_rev}\")\n",
    "sys.stdout.close() \n",
    "sys.stdout = analysis"
   ]
  },
  {
   "cell_type": "code",
   "execution_count": null,
   "id": "0e03b69e-e374-45be-a98d-42f9fc572c4f",
   "metadata": {},
   "outputs": [],
   "source": []
  }
 ],
 "metadata": {
  "kernelspec": {
   "display_name": "Python 3 (ipykernel)",
   "language": "python",
   "name": "python3"
  },
  "language_info": {
   "codemirror_mode": {
    "name": "ipython",
    "version": 3
   },
   "file_extension": ".py",
   "mimetype": "text/x-python",
   "name": "python",
   "nbconvert_exporter": "python",
   "pygments_lexer": "ipython3",
   "version": "3.9.12"
  }
 },
 "nbformat": 4,
 "nbformat_minor": 5
}
